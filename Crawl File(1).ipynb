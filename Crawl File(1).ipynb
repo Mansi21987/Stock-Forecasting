{
 "cells": [
  {
   "cell_type": "markdown",
   "id": "04d2b754",
   "metadata": {},
   "source": [
    "# Crawl Stocks\n",
    "\n",
    "<font size=\"5\">Background</font>\n",
    "<p style='text-align: justify;'>\"Unlocking insights into market trends, we retrieve one-year historical stock data for Apple, Microsoft, Nvidia, Broadcom, Oracle, Adobe, and Salesforce using the yfinance library from Yahoo Finance. This analysis empowers investors with valuable data for informed decision-making in the dynamic stock market landscape.\"</p>"
   ]
  },
  {
   "cell_type": "markdown",
   "id": "70283f4e",
   "metadata": {},
   "source": [
    "# Import Libraries"
   ]
  },
  {
   "cell_type": "code",
   "execution_count": 2,
   "id": "5de2f923",
   "metadata": {},
   "outputs": [],
   "source": [
    "import yfinance as yf\n",
    "import pandas as pd\n",
    "from datetime import datetime as dt\n",
    "import datetime\n",
    "import os"
   ]
  },
  {
   "cell_type": "markdown",
   "id": "e2743036",
   "metadata": {},
   "source": [
    "# Price Data Crawling"
   ]
  },
  {
   "cell_type": "code",
   "execution_count": 6,
   "id": "bc5b6ddf",
   "metadata": {},
   "outputs": [
    {
     "name": "stdout",
     "output_type": "stream",
     "text": [
      "[*********************100%%**********************]  1 of 1 completed\n",
      "[*********************100%%**********************]  1 of 1 completed\n",
      "[*********************100%%**********************]  1 of 1 completed\n",
      "[*********************100%%**********************]  1 of 1 completed\n",
      "[*********************100%%**********************]  1 of 1 completed\n",
      "[*********************100%%**********************]  1 of 1 completed\n",
      "[*********************100%%**********************]  1 of 1 completed\n"
     ]
    }
   ],
   "source": [
    "# initialize start and end date of data that required\n",
    "start = '2021-01-01'\n",
    "end = '2023-01-01'\n",
    "\n",
    "now = datetime.datetime.today().strftime('%d_%m_%Y')\n",
    "\n",
    "# create new dir\n",
    "folder_name = \"data\"\n",
    "os.makedirs(folder_name)\n",
    "\n",
    "# initialize stock code\n",
    "stock_code = ['AAPL', 'MSFT', 'NVDA', 'AVGO', 'ORCL', 'ADBE', 'CRM']\n",
    "\n",
    "for stock in stock_code:\n",
    "    data = yf.download(stock, start=start, end=end)\n",
    "    data = data[['Open', 'High', 'Low', 'Adj Close', 'Volume']]\n",
    "    title = stock.replace('JK', '').replace('.', '')\n",
    "    df = pd.DataFrame(data)\n",
    "    df.to_csv(f'{folder_name}//{title}_{now}.csv')"
   ]
  },
  {
   "cell_type": "code",
   "execution_count": null,
   "id": "f2eab8b2",
   "metadata": {},
   "outputs": [],
   "source": []
  }
 ],
 "metadata": {
  "kernelspec": {
   "display_name": "Python 3 (ipykernel)",
   "language": "python",
   "name": "python3"
  },
  "language_info": {
   "codemirror_mode": {
    "name": "ipython",
    "version": 3
   },
   "file_extension": ".py",
   "mimetype": "text/x-python",
   "name": "python",
   "nbconvert_exporter": "python",
   "pygments_lexer": "ipython3",
   "version": "3.11.5"
  }
 },
 "nbformat": 4,
 "nbformat_minor": 5
}
